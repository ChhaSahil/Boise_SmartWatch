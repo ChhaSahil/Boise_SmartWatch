{
  "cells": [
    {
      "cell_type": "markdown",
      "metadata": {
        "id": "view-in-github",
        "colab_type": "text"
      },
      "source": [
        "<a href=\"https://colab.research.google.com/github/ChhaSahil/Boise_SmartWatch/blob/main/Flipkart_SmartWatches.ipynb\" target=\"_parent\"><img src=\"https://colab.research.google.com/assets/colab-badge.svg\" alt=\"Open In Colab\"/></a>"
      ]
    },
    {
      "cell_type": "markdown",
      "id": "2319a7ac",
      "metadata": {
        "id": "2319a7ac"
      },
      "source": [
        "# Noise and boAt smartwatches data Web Scraping from Flipkart"
      ]
    },
    {
      "cell_type": "code",
      "execution_count": null,
      "id": "ad3497c2",
      "metadata": {
        "id": "ad3497c2",
        "outputId": "bead089e-6cc4-483b-9d88-874675e8c5a5"
      },
      "outputs": [
        {
          "name": "stdout",
          "output_type": "stream",
          "text": [
            "Requirement already satisfied: selenium in c:\\users\\sahil\\anaconda3\\envs\\myenv\\lib\\site-packages (3.141.0)\n",
            "Requirement already satisfied: urllib3 in c:\\users\\sahil\\anaconda3\\envs\\myenv\\lib\\site-packages (from selenium) (1.26.9)\n"
          ]
        }
      ],
      "source": [
        "!pip install selenium"
      ]
    },
    {
      "cell_type": "code",
      "execution_count": null,
      "id": "9e83c987",
      "metadata": {
        "id": "9e83c987"
      },
      "outputs": [],
      "source": [
        "from bs4 import BeautifulSoup\n",
        "import pandas as pd\n",
        "from selenium import webdriver"
      ]
    },
    {
      "cell_type": "markdown",
      "id": "1218a8d9",
      "metadata": {
        "id": "1218a8d9"
      },
      "source": [
        "### Setting up webdriver"
      ]
    },
    {
      "cell_type": "code",
      "execution_count": null,
      "id": "6533dac7",
      "metadata": {
        "id": "6533dac7"
      },
      "outputs": [],
      "source": [
        "options = webdriver.ChromeOptions()\n",
        "options.add_argument('--ignore-certificate-errors')\n",
        "options.add_argument('--incognito')"
      ]
    },
    {
      "cell_type": "markdown",
      "id": "169dcd63",
      "metadata": {
        "id": "169dcd63"
      },
      "source": [
        "'C:\\Users\\sahil\\Downloads\\chromedriver_win32 (1)\\chromedriver.exe' is the path of chromedriver executer"
      ]
    },
    {
      "cell_type": "code",
      "execution_count": null,
      "id": "bbc77344",
      "metadata": {
        "id": "bbc77344"
      },
      "outputs": [],
      "source": [
        "driver = webdriver.Chrome(r\"C:\\Users\\sahil\\Downloads\\chromedriver_win32 (1)\\chromedriver.exe\" ,options=options)"
      ]
    },
    {
      "cell_type": "code",
      "execution_count": null,
      "id": "bedaf552",
      "metadata": {
        "id": "bedaf552"
      },
      "outputs": [],
      "source": [
        "url = 'https://www.flipkart.com/search?q=smartwatch&sid=ajy%2Cbuh&as=on&as-show=on&otracker=AS_QueryStore_HistoryAutoSuggest_1_3_na_na_na&otracker1=AS_QueryStore_HistoryAutoSuggest_1_3_na_na_na&as-pos=1&as-type=HISTORY&suggestionId=smartwatch%7CSmart+Watches&requestId=db7804e9-f819-4fc6-9c90-5a0a64c270c3&as-backfill=on&p%5B%5D=facets.brand%255B%255D%3DboAt&p%5B%5D=facets.brand%255B%255D%3DNoise&p%5B%5D=facets.availability%255B%255D%3DExclude%2BOut%2Bof%2BStock&page='"
      ]
    },
    {
      "cell_type": "markdown",
      "id": "d66f7c91",
      "metadata": {
        "id": "d66f7c91"
      },
      "source": [
        "### To Store the data readily available on searching the smartwatches and also storing watches respective urls"
      ]
    },
    {
      "cell_type": "code",
      "execution_count": null,
      "id": "3bb05632",
      "metadata": {
        "id": "3bb05632"
      },
      "outputs": [],
      "source": [
        "name = []\n",
        "price = []\n",
        "prod_url = []\n",
        "img = []\n",
        "for i in range(1,7):\n",
        "    driver.get(url+str(i))\n",
        "    page_source = driver.page_source\n",
        "    soup = BeautifulSoup(page_source,'lxml')\n",
        "    prod_info = soup.find_all('a',class_ = 'IRpwTa')\n",
        "    prod_price = soup.find_all('div',class_='_30jeq3')\n",
        "    img_url = soup.find_all('img',class_='_2r_T1I')\n",
        "    print(len(name),len(prod_url),len(price),len(img))\n",
        "    for j in range(len(prod_info)):\n",
        "        name.append(prod_info[j]['title'])\n",
        "        prod_url.append(prod_info[j]['href'])\n",
        "        img.append(img_url[j]['src'])\n",
        "        price.append(prod_price[j].text)"
      ]
    },
    {
      "cell_type": "code",
      "execution_count": null,
      "id": "193b05c6",
      "metadata": {
        "id": "193b05c6"
      },
      "outputs": [],
      "source": [
        "dic = {\n",
        "    'Name':name,\n",
        "    'Price':price,\n",
        "    'img_url':img,\n",
        "    'prod_url':prod_url\n",
        "}"
      ]
    },
    {
      "cell_type": "code",
      "execution_count": null,
      "id": "b5951387",
      "metadata": {
        "id": "b5951387"
      },
      "outputs": [],
      "source": [
        "data1 = pd.DataFrame(dic)\n",
        "data1"
      ]
    },
    {
      "cell_type": "markdown",
      "id": "2bfe557f",
      "metadata": {
        "id": "2bfe557f"
      },
      "source": [
        "### Scraping different features of the product"
      ]
    },
    {
      "cell_type": "code",
      "execution_count": null,
      "id": "0c83e74e",
      "metadata": {
        "id": "0c83e74e"
      },
      "outputs": [],
      "source": [
        "features = {'Star':[],'Rating':[],'Amoled':[],'Display Resolution':[],'Water Resistant':[],'Battery Life':[],'Charge Time':[],'Alarm Clock':[],'Calendar':[],'Step Count':[],'Calorie Count':[],'Heart Rate Monitor':[],'Voice Control':[],'Call Features':[],'Operating Range':[],'Display Size':[],'Gesture Control':[]}"
      ]
    },
    {
      "cell_type": "code",
      "execution_count": null,
      "id": "dde0b3a3",
      "metadata": {
        "id": "dde0b3a3"
      },
      "outputs": [],
      "source": [
        "for i in range(len(prod_url)):\n",
        "    driver.get('https://www.flipkart.com'+prod_url[i])\n",
        "    page_source = driver.page_source\n",
        "    soup = BeautifulSoup(page_source,'lxml')\n",
        "    star = soup.find_all('div',class_='_3LWZlK') #Star Rating\n",
        "    rat = soup.find_all('span',class_=\"_2_R_DZ\") # Total Ratings indicating the customer engagement\n",
        "#   dis = soup.find_all('li',class_=\"_21Ahn-\")\n",
        "    row = soup.find_all('td',class_='_1hKmbr') # Feature Description\n",
        "    ans = soup.find_all('li',class_='_21lJbe') # Feature Response\n",
        "    features['Star'].append(float(t[0].text))\n",
        "    try:\n",
        "        features['Rating'].append(int(rat[0].text.split(' ')[0].replace(',','')))\n",
        "    except:\n",
        "        features['Rating'].append(0)\n",
        "    if 'AMOLED' in name[i]:\n",
        "        features['Amoled'].append('Yes')\n",
        "    else:\n",
        "        features['Amoled'].append('No')\n",
        "    dic = {}\n",
        "    for j in range(len(row)):\n",
        "        dic[row[j].text] = ans[j].text\n",
        "    for j in features.items():\n",
        "        if j[0]=='Star'or j[0]=='Amoled' or j[0]=='Rating':\n",
        "            continue\n",
        "        if j[0] in dic:\n",
        "\n",
        "            features[j[0]].append(dic[j[0]])\n",
        "        else:\n",
        "            features[j[0]].append('None')\n",
        "\n",
        "    print(i)"
      ]
    },
    {
      "cell_type": "code",
      "execution_count": null,
      "id": "d400bfc3",
      "metadata": {
        "id": "d400bfc3"
      },
      "outputs": [],
      "source": [
        "data2 = pd.DataFrame(features)"
      ]
    },
    {
      "cell_type": "markdown",
      "id": "dd9485cc",
      "metadata": {
        "id": "dd9485cc"
      },
      "source": [
        "### Storing ratings based on features"
      ]
    },
    {
      "cell_type": "code",
      "execution_count": null,
      "id": "20c89ab6",
      "metadata": {
        "id": "20c89ab6"
      },
      "outputs": [],
      "source": [
        "ratings = {'5☆_Rating':[],'4☆_Rating':[],'3☆_Rating':[],'2☆_Rating':[],'1☆_Rating':[]}"
      ]
    },
    {
      "cell_type": "code",
      "execution_count": null,
      "id": "58e5434d",
      "metadata": {
        "id": "58e5434d"
      },
      "outputs": [],
      "source": [
        "features = {'Battery & Charger':[],'Display':[],'Design':[],'Activity Tracking':[]}"
      ]
    },
    {
      "cell_type": "code",
      "execution_count": null,
      "id": "9f878f7b",
      "metadata": {
        "id": "9f878f7b"
      },
      "outputs": [],
      "source": [
        "for i in range(len(prod_url)):\n",
        "    driver.get('https://www.flipkart.com'+prod_url[i])\n",
        "    page_source = driver.page_source\n",
        "    soup = BeautifulSoup(page_source,'lxml')\n",
        "    r = soup.find_all('div',class_='_1uJVNT')\n",
        "    f = soup.find_all('text',class_='_2Ix0io')\n",
        "    try:\n",
        "        ratings['5☆_Rating'].append(r[0].text)\n",
        "    except:\n",
        "        ratings['5☆_Rating'].append(0)\n",
        "    try:\n",
        "        ratings['4☆_Rating'].append(r[1].text)\n",
        "    except:\n",
        "        ratings['4☆_Rating'].append(0)\n",
        "    try:\n",
        "        ratings['3☆_Rating'].append(r[2].text)\n",
        "    except:\n",
        "        ratings['3☆_Rating'].append(0)\n",
        "    try:\n",
        "        ratings['2☆_Rating'].append(r[3].text)\n",
        "    except:\n",
        "        ratings['2☆_Rating'].append(0)\n",
        "    try:\n",
        "        ratings['1☆_Rating'].append(r[4].text)\n",
        "    except:\n",
        "        ratings['1☆_Rating'].append(0)\n",
        "    try:\n",
        "        features['Battery & Charger'].append(f[0].text)\n",
        "    except:\n",
        "        features['Battery & Charger'].append(0)\n",
        "    try:\n",
        "        features['Display'].append(f[1].text)\n",
        "    except:\n",
        "        features['Display'].append(0)\n",
        "    try:\n",
        "        features['Design'].append(f[2].text)\n",
        "    except:\n",
        "        features['Design'].append(0)\n",
        "    try:\n",
        "        features['Activity Tracking'].append(f[3].text)\n",
        "    except:\n",
        "        features['Activity Tracking'].append(0)\n",
        "    print(i)\n",
        ""
      ]
    },
    {
      "cell_type": "code",
      "execution_count": null,
      "id": "51673b8d",
      "metadata": {
        "id": "51673b8d"
      },
      "outputs": [],
      "source": [
        "df = pd.DataFrame(ratings)\n",
        "df2 = pd.DataFrame(features)"
      ]
    },
    {
      "cell_type": "code",
      "execution_count": null,
      "id": "852ffe8a",
      "metadata": {
        "id": "852ffe8a"
      },
      "outputs": [],
      "source": [
        "result1 = pd.concat([data1,data2,df,df2],axis=1,join='inner')"
      ]
    },
    {
      "cell_type": "markdown",
      "id": "646d8929",
      "metadata": {
        "id": "646d8929"
      },
      "source": [
        "### Information about Dial and Straps"
      ]
    },
    {
      "cell_type": "code",
      "execution_count": null,
      "id": "fa593cc8",
      "metadata": {
        "id": "fa593cc8"
      },
      "outputs": [],
      "source": [
        "dial = {'Dial Color':[],'Dial Shape':[],'Strap Color':[],'Strap Material':[]}"
      ]
    },
    {
      "cell_type": "code",
      "execution_count": null,
      "id": "c5398b36",
      "metadata": {
        "id": "c5398b36"
      },
      "outputs": [],
      "source": [
        "for i in range(0,len(prod_url)):\n",
        "    driver.get('https://www.flipkart.com'+prod_url[i])\n",
        "    page_source = driver.page_source\n",
        "    soup = BeautifulSoup(page_source,'lxml')\n",
        "    row = soup.find_all('td',class_='_1hKmbr')\n",
        "    ans = soup.find_all('li',class_='_21lJbe')\n",
        "    dic = {}\n",
        "    for j in range(len(row)):\n",
        "        dic[row[j].text] = ans[j].text\n",
        "    for j in dial.items():\n",
        "        if j[0] in dic:\n",
        "\n",
        "            dial[j[0]].append(dic[j[0]])\n",
        "        else:\n",
        "            dial[j[0]].append('None')\n",
        "    print(i)"
      ]
    },
    {
      "cell_type": "code",
      "execution_count": null,
      "id": "233af6fc",
      "metadata": {
        "id": "233af6fc"
      },
      "outputs": [],
      "source": [
        "dial_df = pd.DataFrame(dial)"
      ]
    },
    {
      "cell_type": "code",
      "execution_count": null,
      "id": "cc893d43",
      "metadata": {
        "id": "cc893d43"
      },
      "outputs": [],
      "source": [
        "dial_df"
      ]
    },
    {
      "cell_type": "code",
      "execution_count": null,
      "id": "17bfd935",
      "metadata": {
        "id": "17bfd935"
      },
      "outputs": [],
      "source": [
        "result_f = pd.concat([result1,dial_df],axis=1,join='inner')"
      ]
    },
    {
      "cell_type": "markdown",
      "id": "9e6ff65f",
      "metadata": {
        "id": "9e6ff65f"
      },
      "source": [
        "### Data Processing"
      ]
    },
    {
      "cell_type": "code",
      "execution_count": null,
      "id": "aa244c6b",
      "metadata": {
        "id": "aa244c6b"
      },
      "outputs": [],
      "source": [
        "# Converting display size from inch to mm\n",
        "def change_display(s):\n",
        "    if 'inch' in s or 'Inch' in s:\n",
        "        p=s.split(' ')\n",
        "        return float(p[0])*25.4\n",
        "    else:\n",
        "        return s.split(' ')[0]"
      ]
    },
    {
      "cell_type": "code",
      "execution_count": null,
      "id": "a69ae58c",
      "metadata": {
        "id": "a69ae58c"
      },
      "outputs": [],
      "source": [
        "# Converting Battery life to numeric form\n",
        "def change_battery_life(s):\n",
        "    d=''\n",
        "    for char in s:\n",
        "        if char.isnumeric():\n",
        "            d+=char\n",
        "    return d"
      ]
    },
    {
      "cell_type": "code",
      "execution_count": null,
      "id": "9f0635b0",
      "metadata": {
        "id": "9f0635b0"
      },
      "outputs": [],
      "source": [
        "result_f['Display_Size'] = result_f['Display Size'].apply(change_display)\n",
        "result_f.drop(['Display Size'],axis=1,inplace=True)"
      ]
    },
    {
      "cell_type": "code",
      "execution_count": null,
      "id": "e79ac7a7",
      "metadata": {
        "id": "e79ac7a7"
      },
      "outputs": [],
      "source": [
        "result_f['Battery Life'] = result_f['Battery Life'].apply(change_battery_life)"
      ]
    },
    {
      "cell_type": "markdown",
      "id": "13b3acbe",
      "metadata": {
        "id": "13b3acbe"
      },
      "source": [
        "### Converting Dataframe to CSV file"
      ]
    },
    {
      "cell_type": "code",
      "execution_count": null,
      "id": "1366a734",
      "metadata": {
        "id": "1366a734"
      },
      "outputs": [],
      "source": [
        "result_f.to_csv('output.csv')"
      ]
    }
  ],
  "metadata": {
    "kernelspec": {
      "display_name": "Python 3 (ipykernel)",
      "language": "python",
      "name": "python3"
    },
    "language_info": {
      "codemirror_mode": {
        "name": "ipython",
        "version": 3
      },
      "file_extension": ".py",
      "mimetype": "text/x-python",
      "name": "python",
      "nbconvert_exporter": "python",
      "pygments_lexer": "ipython3",
      "version": "3.10.0"
    },
    "colab": {
      "provenance": [],
      "include_colab_link": true
    }
  },
  "nbformat": 4,
  "nbformat_minor": 5
}